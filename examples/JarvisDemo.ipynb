{
 "cells": [
  {
   "cell_type": "code",
   "execution_count": 1,
   "metadata": {
    "scrolled": false
   },
   "outputs": [
    {
     "name": "stdout",
     "output_type": "stream",
     "text": [
      "Waiting for redis server at 127.0.0.1:48327 to respond...\n",
      "Waiting for redis server at 127.0.0.1:17854 to respond...\n",
      "Starting local scheduler with 4 CPUs, 0 GPUs\n",
      "\n",
      "======================================================================\n",
      "View the web UI at http://localhost:8889/notebooks/ray_ui93737.ipynb?token=3ac759cc4278b08a2fdcb61fbaed4907804b1f55e4e6e430\n",
      "======================================================================\n",
      "\n"
     ]
    }
   ],
   "source": [
    "import jarvis\n",
    "import pandas as pd\n",
    "import numpy as np"
   ]
  },
  {
   "cell_type": "markdown",
   "metadata": {},
   "source": [
    "# Where do I start? Summarize current and past experiments"
   ]
  },
  {
   "cell_type": "code",
   "execution_count": 2,
   "metadata": {},
   "outputs": [
    {
     "name": "stderr",
     "output_type": "stream",
     "text": [
      "100%|██████████| 1/1 [00:00<00:00, 18.00it/s]\n"
     ]
    }
   ],
   "source": [
    "summary = jarvis.versionSummaries('twitter_demo')"
   ]
  },
  {
   "cell_type": "code",
   "execution_count": 3,
   "metadata": {},
   "outputs": [
    {
     "data": {
      "text/html": [
       "<div>\n",
       "<style scoped>\n",
       "    .dataframe tbody tr th:only-of-type {\n",
       "        vertical-align: middle;\n",
       "    }\n",
       "\n",
       "    .dataframe tbody tr th {\n",
       "        vertical-align: top;\n",
       "    }\n",
       "\n",
       "    .dataframe thead th {\n",
       "        text-align: right;\n",
       "    }\n",
       "</style>\n",
       "<table border=\"1\" class=\"dataframe\">\n",
       "  <thead>\n",
       "    <tr style=\"text-align: right;\">\n",
       "      <th></th>\n",
       "      <th>__trialNum__</th>\n",
       "      <th>alpha</th>\n",
       "      <th>frac</th>\n",
       "      <th>model</th>\n",
       "      <th>model_accuracy</th>\n",
       "      <th>split_seed</th>\n",
       "      <th>__commitHash__</th>\n",
       "    </tr>\n",
       "  </thead>\n",
       "  <tbody>\n",
       "    <tr>\n",
       "      <th>0</th>\n",
       "      <td>0</td>\n",
       "      <td>0.000000</td>\n",
       "      <td>0.75</td>\n",
       "      <td>. . .</td>\n",
       "      <td>0.78794</td>\n",
       "      <td>42</td>\n",
       "      <td>90bee24da6bea15164e562c429fcfeadd5e08537</td>\n",
       "    </tr>\n",
       "    <tr>\n",
       "      <th>1</th>\n",
       "      <td>1</td>\n",
       "      <td>0.142857</td>\n",
       "      <td>0.75</td>\n",
       "      <td>. . .</td>\n",
       "      <td>0.75478</td>\n",
       "      <td>42</td>\n",
       "      <td>90bee24da6bea15164e562c429fcfeadd5e08537</td>\n",
       "    </tr>\n",
       "    <tr>\n",
       "      <th>2</th>\n",
       "      <td>2</td>\n",
       "      <td>0.285714</td>\n",
       "      <td>0.75</td>\n",
       "      <td>. . .</td>\n",
       "      <td>0.73327</td>\n",
       "      <td>42</td>\n",
       "      <td>90bee24da6bea15164e562c429fcfeadd5e08537</td>\n",
       "    </tr>\n",
       "    <tr>\n",
       "      <th>3</th>\n",
       "      <td>3</td>\n",
       "      <td>0.428571</td>\n",
       "      <td>0.75</td>\n",
       "      <td>. . .</td>\n",
       "      <td>0.71146</td>\n",
       "      <td>42</td>\n",
       "      <td>90bee24da6bea15164e562c429fcfeadd5e08537</td>\n",
       "    </tr>\n",
       "    <tr>\n",
       "      <th>4</th>\n",
       "      <td>4</td>\n",
       "      <td>0.571429</td>\n",
       "      <td>0.75</td>\n",
       "      <td>. . .</td>\n",
       "      <td>0.69731</td>\n",
       "      <td>42</td>\n",
       "      <td>90bee24da6bea15164e562c429fcfeadd5e08537</td>\n",
       "    </tr>\n",
       "    <tr>\n",
       "      <th>5</th>\n",
       "      <td>5</td>\n",
       "      <td>0.714286</td>\n",
       "      <td>0.75</td>\n",
       "      <td>. . .</td>\n",
       "      <td>0.68776</td>\n",
       "      <td>42</td>\n",
       "      <td>90bee24da6bea15164e562c429fcfeadd5e08537</td>\n",
       "    </tr>\n",
       "    <tr>\n",
       "      <th>6</th>\n",
       "      <td>6</td>\n",
       "      <td>0.857143</td>\n",
       "      <td>0.75</td>\n",
       "      <td>. . .</td>\n",
       "      <td>0.67680</td>\n",
       "      <td>42</td>\n",
       "      <td>90bee24da6bea15164e562c429fcfeadd5e08537</td>\n",
       "    </tr>\n",
       "    <tr>\n",
       "      <th>7</th>\n",
       "      <td>7</td>\n",
       "      <td>1.000000</td>\n",
       "      <td>0.75</td>\n",
       "      <td>. . .</td>\n",
       "      <td>0.66765</td>\n",
       "      <td>42</td>\n",
       "      <td>90bee24da6bea15164e562c429fcfeadd5e08537</td>\n",
       "    </tr>\n",
       "  </tbody>\n",
       "</table>\n",
       "</div>"
      ],
      "text/plain": [
       "  __trialNum__     alpha  frac    model  model_accuracy  split_seed  \\\n",
       "0            0  0.000000  0.75   . . .          0.78794          42   \n",
       "1            1  0.142857  0.75   . . .          0.75478          42   \n",
       "2            2  0.285714  0.75   . . .          0.73327          42   \n",
       "3            3  0.428571  0.75   . . .          0.71146          42   \n",
       "4            4  0.571429  0.75   . . .          0.69731          42   \n",
       "5            5  0.714286  0.75   . . .          0.68776          42   \n",
       "6            6  0.857143  0.75   . . .          0.67680          42   \n",
       "7            7  1.000000  0.75   . . .          0.66765          42   \n",
       "\n",
       "                             __commitHash__  \n",
       "0  90bee24da6bea15164e562c429fcfeadd5e08537  \n",
       "1  90bee24da6bea15164e562c429fcfeadd5e08537  \n",
       "2  90bee24da6bea15164e562c429fcfeadd5e08537  \n",
       "3  90bee24da6bea15164e562c429fcfeadd5e08537  \n",
       "4  90bee24da6bea15164e562c429fcfeadd5e08537  \n",
       "5  90bee24da6bea15164e562c429fcfeadd5e08537  \n",
       "6  90bee24da6bea15164e562c429fcfeadd5e08537  \n",
       "7  90bee24da6bea15164e562c429fcfeadd5e08537  "
      ]
     },
     "execution_count": 3,
     "metadata": {},
     "output_type": "execute_result"
    }
   ],
   "source": [
    "summary"
   ]
  },
  {
   "cell_type": "markdown",
   "metadata": {},
   "source": [
    "# What is the best experiment?\n",
    "Here, we measure _goodness_ of an experiment by its max model accuracy, over all trials."
   ]
  },
  {
   "cell_type": "code",
   "execution_count": 4,
   "metadata": {},
   "outputs": [
    {
     "data": {
      "text/plain": [
       "__commitHash__\n",
       "90bee24da6bea15164e562c429fcfeadd5e08537    0.78794\n",
       "Name: model_accuracy, dtype: float64"
      ]
     },
     "execution_count": 4,
     "metadata": {},
     "output_type": "execute_result"
    }
   ],
   "source": [
    "summary_stat = summary.groupby('__commitHash__')['model_accuracy'].max()\n",
    "summary_stat"
   ]
  },
  {
   "cell_type": "code",
   "execution_count": 5,
   "metadata": {},
   "outputs": [
    {
     "data": {
      "text/plain": [
       "'90bee...'"
      ]
     },
     "execution_count": 5,
     "metadata": {},
     "output_type": "execute_result"
    }
   ],
   "source": [
    "best_commit_hash = summary_stat.idxmax()\n",
    "best_commit_hash[0:5] + '...'"
   ]
  },
  {
   "cell_type": "markdown",
   "metadata": {},
   "source": [
    "# What is the best trial, given the best experiment?"
   ]
  },
  {
   "cell_type": "code",
   "execution_count": 6,
   "metadata": {},
   "outputs": [
    {
     "data": {
      "text/plain": [
       "'0'"
      ]
     },
     "execution_count": 6,
     "metadata": {},
     "output_type": "execute_result"
    }
   ],
   "source": [
    "best_index = summary.loc[summary['__commitHash__'] == best_commit_hash]['model_accuracy'].idxmax()\n",
    "best_trial = summary.iloc[best_index]['__trialNum__']\n",
    "best_trial"
   ]
  },
  {
   "cell_type": "markdown",
   "metadata": {},
   "source": [
    "# So the former experiment is better than the latter. What changed?"
   ]
  },
  {
   "cell_type": "code",
   "execution_count": 7,
   "metadata": {
    "collapsed": true
   },
   "outputs": [],
   "source": [
    "versions = summary.__commitHash__.unique()\n",
    "most_recent, least_recent = versions"
   ]
  },
  {
   "cell_type": "code",
   "execution_count": 8,
   "metadata": {},
   "outputs": [
    {
     "name": "stdout",
     "output_type": "stream",
     "text": [
      "\u001b[0;30mtrain_model.py --> train_model.py\n",
      "\u001b[0;30m@@ -47,8 +47,8 @@ def train(tweet_df, alpha):\n",
      "\u001b[0;30m     ## Convert tweet to bag of words for learning\n",
      "\u001b[0;30m \n",
      "\u001b[0;30m     # Tokenize Text\n",
      "\u001b[1;31m-    vectorizer = TfidfVectorizer()\n",
      "\u001b[1;31m-    #vectorizer = CountVectorizer()\n",
      "\u001b[1;32m+    #vectorizer = TfidfVectorizer()\n",
      "\u001b[1;32m+    vectorizer = CountVectorizer()\n",
      "\u001b[0;30m \n",
      "\u001b[0;30m     X_train = vectorizer.fit_transform(tweet_df[\"tweet\"])\n",
      "\u001b[0;30m \n"
     ]
    }
   ],
   "source": [
    "jarvis.diffExperimentVersions('twitter_demo', least_recent, most_recent)"
   ]
  },
  {
   "cell_type": "markdown",
   "metadata": {},
   "source": [
    "# Let's get the best model yet!\n",
    "From the best trial, from the best experiment"
   ]
  },
  {
   "cell_type": "code",
   "execution_count": 9,
   "metadata": {
    "collapsed": true
   },
   "outputs": [],
   "source": [
    "best_model = jarvis.checkoutArtifact('twitter_demo', best_trial, best_commit_hash, 'model.pkl')"
   ]
  },
  {
   "cell_type": "markdown",
   "metadata": {},
   "source": [
    "# Here's the best model in action"
   ]
  },
  {
   "cell_type": "code",
   "execution_count": 10,
   "metadata": {},
   "outputs": [
    {
     "name": "stdout",
     "output_type": "stream",
     "text": [
      "What's on your mind? Hello world\n",
      "Predicted country of origin:  US\n",
      "\n",
      "What's on your mind? tqm\n",
      "Predicted country of origin:  MX\n",
      "\n",
      "What's on your mind? exit\n"
     ]
    }
   ],
   "source": [
    "country_dict = best_model['country_dict']\n",
    "classifier = best_model['classifier']\n",
    "vectorizer = best_model['vectorizer']\n",
    "\n",
    "code_dict = {}\n",
    "\n",
    "for kee in country_dict:\n",
    "    code_dict[country_dict[kee]] = kee\n",
    "\n",
    "while True:\n",
    "    tweet = input(\"What's on your mind? \")\n",
    "    if tweet == 'exit':\n",
    "        break\n",
    "    tweet_vec = vectorizer.transform(np.array([tweet,]))\n",
    "    country_id = classifier.predict(tweet_vec)\n",
    "    print(\"Predicted country of origin: {}\\n\".format(code_dict[country_id[0]]))"
   ]
  },
  {
   "cell_type": "code",
   "execution_count": null,
   "metadata": {
    "collapsed": true
   },
   "outputs": [],
   "source": []
  },
  {
   "cell_type": "code",
   "execution_count": null,
   "metadata": {
    "collapsed": true
   },
   "outputs": [],
   "source": []
  }
 ],
 "metadata": {
  "kernelspec": {
   "display_name": "Python 3",
   "language": "python",
   "name": "python3"
  },
  "language_info": {
   "codemirror_mode": {
    "name": "ipython",
    "version": 3
   },
   "file_extension": ".py",
   "mimetype": "text/x-python",
   "name": "python",
   "nbconvert_exporter": "python",
   "pygments_lexer": "ipython3",
   "version": "3.6.4"
  }
 },
 "nbformat": 4,
 "nbformat_minor": 2
}
